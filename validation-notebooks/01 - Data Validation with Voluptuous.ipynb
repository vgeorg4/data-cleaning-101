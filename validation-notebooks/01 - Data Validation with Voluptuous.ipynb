{
 "cells": [
  {
   "cell_type": "markdown",
   "metadata": {},
   "source": [
    "## Data Validation with Voluptuous (Schema Definitions)\n",
    "\n",
    "In this notebook, we'll use [Voluptuous](https://github.com/alecthomas/voluptuous) to define schemas for our data. We can then use schema checking at different points in our cleanup to ensure we meet criteria. We can then use schema validation exceptions to either mark, set aside or remove unclean / invalid data. "
   ]
  },
  {
   "cell_type": "code",
   "execution_count": null,
   "metadata": {},
   "outputs": [],
   "source": [
    "import logging\n",
    "import pandas as pd\n",
    "from datetime import datetime\n",
    "from voluptuous import Schema, Required, Range, All, ALLOW_EXTRA\n",
    "from voluptuous.error import MultipleInvalid, Invalid"
   ]
  },
  {
   "cell_type": "code",
   "execution_count": null,
   "metadata": {},
   "outputs": [],
   "source": [
    "logger = logging.getLogger(0)\n",
    "logger.setLevel(logging.WARNING)"
   ]
  },
  {
   "cell_type": "code",
   "execution_count": null,
   "metadata": {},
   "outputs": [],
   "source": [
    "sales = pd.read_csv('../data/sales_data.csv')"
   ]
  },
  {
   "cell_type": "code",
   "execution_count": null,
   "metadata": {},
   "outputs": [],
   "source": [
    "sales.head()"
   ]
  },
  {
   "cell_type": "code",
   "execution_count": null,
   "metadata": {},
   "outputs": [],
   "source": [
    "sales.dtypes"
   ]
  },
  {
   "cell_type": "code",
   "execution_count": null,
   "metadata": {},
   "outputs": [],
   "source": [
    "sales['timestamp'].map(lambda x: datetime.strptime(x, \n",
    "                                                   '%Y-%m-%d %H:%M:%S'))"
   ]
  },
  {
   "cell_type": "markdown",
   "metadata": {},
   "source": [
    "### Data Quality Check"
   ]
  },
  {
   "cell_type": "code",
   "execution_count": null,
   "metadata": {},
   "outputs": [],
   "source": [
    "sales.head()"
   ]
  },
  {
   "cell_type": "code",
   "execution_count": null,
   "metadata": {},
   "outputs": [],
   "source": [
    "sales.dtypes"
   ]
  },
  {
   "cell_type": "markdown",
   "metadata": {},
   "source": [
    "## Defining our first schema"
   ]
  },
  {
   "cell_type": "code",
   "execution_count": null,
   "metadata": {},
   "outputs": [],
   "source": [
    "schema = Schema({\n",
    "    Required('sale_amount'): All(float, \n",
    "                                 Range(min=2.50, max=1450.99)),\n",
    "}, extra=ALLOW_EXTRA)"
   ]
  },
  {
   "cell_type": "code",
   "execution_count": null,
   "metadata": {},
   "outputs": [],
   "source": [
    "error_count = 0\n",
    "for s_id, sale in sales.T.to_dict().items():\n",
    "    try:\n",
    "        schema(sale)\n",
    "    except MultipleInvalid as e:\n",
    "        logging.warning('issue with sale: %s (%s) - %s', \n",
    "                        s_id, sale['sale_amount'], e)\n",
    "        error_count += 1"
   ]
  },
  {
   "cell_type": "code",
   "execution_count": null,
   "metadata": {},
   "outputs": [],
   "source": [
    "error_count"
   ]
  },
  {
   "cell_type": "code",
   "execution_count": null,
   "metadata": {},
   "outputs": [],
   "source": [
    "sales.shape"
   ]
  },
  {
   "cell_type": "markdown",
   "metadata": {},
   "source": [
    "### Questions we might want to answer:\n",
    "- Do we have an improperly defined schema?\n",
    "- Are negative values possibly returns or falsely marked? (data entry proceedures)\n",
    "- Are higher values combined purchases or special sales? (or potentially fraud?)\n",
    "- What should we do with our schema and our failing data points?"
   ]
  },
  {
   "cell_type": "markdown",
   "metadata": {
    "collapsed": true
   },
   "source": [
    "### Adding a custom Validation Case"
   ]
  },
  {
   "cell_type": "code",
   "execution_count": null,
   "metadata": {},
   "outputs": [],
   "source": [
    "def ValidDate(fmt='%Y-%m-%d %H:%M:%S'):\n",
    "    return lambda v: datetime.strptime(v, fmt)"
   ]
  },
  {
   "cell_type": "code",
   "execution_count": null,
   "metadata": {},
   "outputs": [],
   "source": [
    "schema = Schema({\n",
    "    Required('timestamp'): All(ValidDate()),\n",
    "}, extra=ALLOW_EXTRA)"
   ]
  },
  {
   "cell_type": "code",
   "execution_count": null,
   "metadata": {},
   "outputs": [],
   "source": [
    "error_count = 0\n",
    "for s_id, sale in sales.T.to_dict().items():\n",
    "    try:\n",
    "        schema(sale)\n",
    "    except MultipleInvalid as e:\n",
    "        logging.warning('issue with sale: %s (%s) - %s', \n",
    "                        s_id, sale['timestamp'], e)\n",
    "        error_count += 1"
   ]
  },
  {
   "cell_type": "code",
   "execution_count": null,
   "metadata": {},
   "outputs": [],
   "source": [
    "error_count"
   ]
  },
  {
   "cell_type": "markdown",
   "metadata": {},
   "source": [
    "## So we have valid date structures, what about actual valid dates?"
   ]
  },
  {
   "cell_type": "code",
   "execution_count": null,
   "metadata": {},
   "outputs": [],
   "source": [
    "def ValidDate(fmt='%Y-%m-%d %H:%M:%S'):\n",
    "    def validation_func(v):\n",
    "        try:\n",
    "            assert datetime.strptime(v, fmt) <= datetime.now()\n",
    "        except AssertionError:\n",
    "            raise Invalid('date is in the future! %s' % v)\n",
    "    return validation_func"
   ]
  },
  {
   "cell_type": "code",
   "execution_count": null,
   "metadata": {},
   "outputs": [],
   "source": [
    "schema = Schema({\n",
    "    Required('timestamp'): All(ValidDate()),\n",
    "}, extra=ALLOW_EXTRA)"
   ]
  },
  {
   "cell_type": "code",
   "execution_count": null,
   "metadata": {},
   "outputs": [],
   "source": [
    "error_count = 0\n",
    "for s_id, sale in sales.T.to_dict().items():\n",
    "    try:\n",
    "        schema(sale)\n",
    "    except MultipleInvalid as e:\n",
    "        logging.warning('issue with sale: %s (%s) - %s', \n",
    "                        s_id, sale['timestamp'], e)\n",
    "        error_count += 1"
   ]
  },
  {
   "cell_type": "code",
   "execution_count": null,
   "metadata": {},
   "outputs": [],
   "source": [
    "error_count"
   ]
  },
  {
   "cell_type": "markdown",
   "metadata": {
    "collapsed": true
   },
   "source": [
    "## Exercise: what are some possible reasons for future dates? What should we do with the data and schema?"
   ]
  },
  {
   "cell_type": "code",
   "execution_count": null,
   "metadata": {},
   "outputs": [],
   "source": []
  }
 ],
 "metadata": {
  "kernelspec": {
   "display_name": "Python 3",
   "language": "python",
   "name": "python3"
  },
  "language_info": {
   "codemirror_mode": {
    "name": "ipython",
    "version": 3
   },
   "file_extension": ".py",
   "mimetype": "text/x-python",
   "name": "python",
   "nbconvert_exporter": "python",
   "pygments_lexer": "ipython3",
   "version": "3.6.6"
  }
 },
 "nbformat": 4,
 "nbformat_minor": 2
}
